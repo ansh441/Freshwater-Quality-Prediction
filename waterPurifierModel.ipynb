{
  "cells": [
    {
      "cell_type": "code",
      "execution_count": 2,
      "metadata": {
        "id": "3150a459"
      },
      "outputs": [],
      "source": [
        "import pandas as pd\n",
        "import numpy as np\n",
        "import matplotlib.pyplot as plt\n",
        "import sklearn\n",
        "from sklearn.metrics import *\n",
        "from sklearn.decomposition import PCA\n",
        "%matplotlib inline\n"
      ],
      "id": "3150a459"
    },
    {
      "cell_type": "code",
      "execution_count": 3,
      "metadata": {
        "colab": {
          "base_uri": "https://localhost:8080/"
        },
        "id": "EoReLvC_baRa",
        "outputId": "9b15c57c-4b77-45d2-a81b-11273614a3d8"
      },
      "outputs": [
        {
          "output_type": "stream",
          "name": "stdout",
          "text": [
            "Mounted at /content/drive\n"
          ]
        }
      ],
      "source": [
        "from google.colab import drive\n",
        "drive.mount('/content/drive')"
      ],
      "id": "EoReLvC_baRa"
    },
    {
      "cell_type": "code",
      "execution_count": 4,
      "metadata": {
        "id": "aeUP9QgNZzCg"
      },
      "outputs": [],
      "source": [
        "data = pd.read_csv(\"/content/drive/MyDrive/imputedanddummied.csv\")"
      ],
      "id": "aeUP9QgNZzCg"
    },
    {
      "cell_type": "code",
      "execution_count": 5,
      "metadata": {
        "colab": {
          "base_uri": "https://localhost:8080/"
        },
        "id": "d4b2cfc5",
        "outputId": "520807de-ca06-4867-864c-eecd7ed6c5b1"
      },
      "outputs": [
        {
          "output_type": "stream",
          "name": "stdout",
          "text": [
            "<class 'pandas.core.frame.DataFrame'>\n",
            "RangeIndex: 5956842 entries, 0 to 5956841\n",
            "Data columns (total 25 columns):\n",
            " #   Column                  Dtype  \n",
            "---  ------                  -----  \n",
            " 0   Unnamed: 0              int64  \n",
            " 1   Index                   float64\n",
            " 2   pH                      float64\n",
            " 3   Iron                    float64\n",
            " 4   Nitrate                 float64\n",
            " 5   Chloride                float64\n",
            " 6   Lead                    float64\n",
            " 7   Zinc                    float64\n",
            " 8   Turbidity               float64\n",
            " 9   Fluoride                float64\n",
            " 10  Copper                  float64\n",
            " 11  Odor                    float64\n",
            " 12  Sulfate                 float64\n",
            " 13  Conductivity            float64\n",
            " 14  Chlorine                float64\n",
            " 15  Manganese               float64\n",
            " 16  Total Dissolved Solids  float64\n",
            " 17  Water Temperature       float64\n",
            " 18  Air Temperature         float64\n",
            " 19  Target                  float64\n",
            " 20  Color_Colorless         float64\n",
            " 21  Color_Faint Yellow      float64\n",
            " 22  Color_Light Yellow      float64\n",
            " 23  Color_Near Colorless    float64\n",
            " 24  Color_Yellow            float64\n",
            "dtypes: float64(24), int64(1)\n",
            "memory usage: 1.1 GB\n"
          ]
        }
      ],
      "source": [
        "data.info()"
      ],
      "id": "d4b2cfc5"
    },
    {
      "cell_type": "code",
      "execution_count": 6,
      "metadata": {
        "id": "06210f29",
        "colab": {
          "base_uri": "https://localhost:8080/"
        },
        "outputId": "2b93b7a6-2973-4d24-9110-985c5ab36f6d"
      },
      "outputs": [
        {
          "output_type": "execute_result",
          "data": {
            "text/plain": [
              "(5956842, 25)"
            ]
          },
          "metadata": {},
          "execution_count": 6
        }
      ],
      "source": [
        "data.shape"
      ],
      "id": "06210f29"
    },
    {
      "cell_type": "code",
      "execution_count": 7,
      "metadata": {
        "id": "fc895b57",
        "colab": {
          "base_uri": "https://localhost:8080/",
          "height": 421
        },
        "outputId": "806d57c3-6a6c-4326-92b0-489cd97b8d9a"
      },
      "outputs": [
        {
          "output_type": "execute_result",
          "data": {
            "text/plain": [
              "   Unnamed: 0  Index        pH      Iron   Nitrate    Chloride           Lead  \\\n",
              "0           0    0.0  8.332988  0.000083  8.605777  122.799772   3.713298e-52   \n",
              "1           1    1.0  6.917863  0.000081  3.734167  227.029851   7.849262e-94   \n",
              "2           2    2.0  5.443762  0.020106  3.816994  230.995630   5.286616e-76   \n",
              "3           3    3.0  7.955339  0.143988  8.224944  178.129940  3.997118e-176   \n",
              "4           4    4.0  8.091909  0.002167  9.925788  186.540872  4.171069e-132   \n",
              "\n",
              "       Zinc  Turbidity  Fluoride  ...     Manganese  Total Dissolved Solids  \\\n",
              "0  3.434827   0.022683  0.607283  ...  2.269945e-15              332.118789   \n",
              "1  1.245317   0.019007  0.622874  ...  8.024076e-07              284.641984   \n",
              "2  0.528280   0.319956  0.423423  ...  7.007989e-02              570.054094   \n",
              "3  4.027879   0.166319  0.208454  ...  2.468295e-02              100.043838   \n",
              "4  3.807511   0.004867  0.222912  ...  3.296139e-03              168.075545   \n",
              "\n",
              "   Water Temperature  Air Temperature  Target  Color_Colorless  \\\n",
              "0          19.129818        43.493324     0.0              1.0   \n",
              "1          15.348981        71.220586     0.0              0.0   \n",
              "2          11.643467        44.891330     0.0              0.0   \n",
              "3          10.092392        60.843233     0.0              0.0   \n",
              "4          15.249416        69.336671     0.0              0.0   \n",
              "\n",
              "   Color_Faint Yellow  Color_Light Yellow  Color_Near Colorless  Color_Yellow  \n",
              "0                 0.0                 0.0                   0.0           0.0  \n",
              "1                 1.0                 0.0                   0.0           0.0  \n",
              "2                 0.0                 1.0                   0.0           0.0  \n",
              "3                 0.0                 0.0                   1.0           0.0  \n",
              "4                 0.0                 1.0                   0.0           0.0  \n",
              "\n",
              "[5 rows x 25 columns]"
            ],
            "text/html": [
              "\n",
              "  <div id=\"df-134f2f1a-f471-4c22-be92-130fb697de89\">\n",
              "    <div class=\"colab-df-container\">\n",
              "      <div>\n",
              "<style scoped>\n",
              "    .dataframe tbody tr th:only-of-type {\n",
              "        vertical-align: middle;\n",
              "    }\n",
              "\n",
              "    .dataframe tbody tr th {\n",
              "        vertical-align: top;\n",
              "    }\n",
              "\n",
              "    .dataframe thead th {\n",
              "        text-align: right;\n",
              "    }\n",
              "</style>\n",
              "<table border=\"1\" class=\"dataframe\">\n",
              "  <thead>\n",
              "    <tr style=\"text-align: right;\">\n",
              "      <th></th>\n",
              "      <th>Unnamed: 0</th>\n",
              "      <th>Index</th>\n",
              "      <th>pH</th>\n",
              "      <th>Iron</th>\n",
              "      <th>Nitrate</th>\n",
              "      <th>Chloride</th>\n",
              "      <th>Lead</th>\n",
              "      <th>Zinc</th>\n",
              "      <th>Turbidity</th>\n",
              "      <th>Fluoride</th>\n",
              "      <th>...</th>\n",
              "      <th>Manganese</th>\n",
              "      <th>Total Dissolved Solids</th>\n",
              "      <th>Water Temperature</th>\n",
              "      <th>Air Temperature</th>\n",
              "      <th>Target</th>\n",
              "      <th>Color_Colorless</th>\n",
              "      <th>Color_Faint Yellow</th>\n",
              "      <th>Color_Light Yellow</th>\n",
              "      <th>Color_Near Colorless</th>\n",
              "      <th>Color_Yellow</th>\n",
              "    </tr>\n",
              "  </thead>\n",
              "  <tbody>\n",
              "    <tr>\n",
              "      <th>0</th>\n",
              "      <td>0</td>\n",
              "      <td>0.0</td>\n",
              "      <td>8.332988</td>\n",
              "      <td>0.000083</td>\n",
              "      <td>8.605777</td>\n",
              "      <td>122.799772</td>\n",
              "      <td>3.713298e-52</td>\n",
              "      <td>3.434827</td>\n",
              "      <td>0.022683</td>\n",
              "      <td>0.607283</td>\n",
              "      <td>...</td>\n",
              "      <td>2.269945e-15</td>\n",
              "      <td>332.118789</td>\n",
              "      <td>19.129818</td>\n",
              "      <td>43.493324</td>\n",
              "      <td>0.0</td>\n",
              "      <td>1.0</td>\n",
              "      <td>0.0</td>\n",
              "      <td>0.0</td>\n",
              "      <td>0.0</td>\n",
              "      <td>0.0</td>\n",
              "    </tr>\n",
              "    <tr>\n",
              "      <th>1</th>\n",
              "      <td>1</td>\n",
              "      <td>1.0</td>\n",
              "      <td>6.917863</td>\n",
              "      <td>0.000081</td>\n",
              "      <td>3.734167</td>\n",
              "      <td>227.029851</td>\n",
              "      <td>7.849262e-94</td>\n",
              "      <td>1.245317</td>\n",
              "      <td>0.019007</td>\n",
              "      <td>0.622874</td>\n",
              "      <td>...</td>\n",
              "      <td>8.024076e-07</td>\n",
              "      <td>284.641984</td>\n",
              "      <td>15.348981</td>\n",
              "      <td>71.220586</td>\n",
              "      <td>0.0</td>\n",
              "      <td>0.0</td>\n",
              "      <td>1.0</td>\n",
              "      <td>0.0</td>\n",
              "      <td>0.0</td>\n",
              "      <td>0.0</td>\n",
              "    </tr>\n",
              "    <tr>\n",
              "      <th>2</th>\n",
              "      <td>2</td>\n",
              "      <td>2.0</td>\n",
              "      <td>5.443762</td>\n",
              "      <td>0.020106</td>\n",
              "      <td>3.816994</td>\n",
              "      <td>230.995630</td>\n",
              "      <td>5.286616e-76</td>\n",
              "      <td>0.528280</td>\n",
              "      <td>0.319956</td>\n",
              "      <td>0.423423</td>\n",
              "      <td>...</td>\n",
              "      <td>7.007989e-02</td>\n",
              "      <td>570.054094</td>\n",
              "      <td>11.643467</td>\n",
              "      <td>44.891330</td>\n",
              "      <td>0.0</td>\n",
              "      <td>0.0</td>\n",
              "      <td>0.0</td>\n",
              "      <td>1.0</td>\n",
              "      <td>0.0</td>\n",
              "      <td>0.0</td>\n",
              "    </tr>\n",
              "    <tr>\n",
              "      <th>3</th>\n",
              "      <td>3</td>\n",
              "      <td>3.0</td>\n",
              "      <td>7.955339</td>\n",
              "      <td>0.143988</td>\n",
              "      <td>8.224944</td>\n",
              "      <td>178.129940</td>\n",
              "      <td>3.997118e-176</td>\n",
              "      <td>4.027879</td>\n",
              "      <td>0.166319</td>\n",
              "      <td>0.208454</td>\n",
              "      <td>...</td>\n",
              "      <td>2.468295e-02</td>\n",
              "      <td>100.043838</td>\n",
              "      <td>10.092392</td>\n",
              "      <td>60.843233</td>\n",
              "      <td>0.0</td>\n",
              "      <td>0.0</td>\n",
              "      <td>0.0</td>\n",
              "      <td>0.0</td>\n",
              "      <td>1.0</td>\n",
              "      <td>0.0</td>\n",
              "    </tr>\n",
              "    <tr>\n",
              "      <th>4</th>\n",
              "      <td>4</td>\n",
              "      <td>4.0</td>\n",
              "      <td>8.091909</td>\n",
              "      <td>0.002167</td>\n",
              "      <td>9.925788</td>\n",
              "      <td>186.540872</td>\n",
              "      <td>4.171069e-132</td>\n",
              "      <td>3.807511</td>\n",
              "      <td>0.004867</td>\n",
              "      <td>0.222912</td>\n",
              "      <td>...</td>\n",
              "      <td>3.296139e-03</td>\n",
              "      <td>168.075545</td>\n",
              "      <td>15.249416</td>\n",
              "      <td>69.336671</td>\n",
              "      <td>0.0</td>\n",
              "      <td>0.0</td>\n",
              "      <td>0.0</td>\n",
              "      <td>1.0</td>\n",
              "      <td>0.0</td>\n",
              "      <td>0.0</td>\n",
              "    </tr>\n",
              "  </tbody>\n",
              "</table>\n",
              "<p>5 rows × 25 columns</p>\n",
              "</div>\n",
              "      <button class=\"colab-df-convert\" onclick=\"convertToInteractive('df-134f2f1a-f471-4c22-be92-130fb697de89')\"\n",
              "              title=\"Convert this dataframe to an interactive table.\"\n",
              "              style=\"display:none;\">\n",
              "        \n",
              "  <svg xmlns=\"http://www.w3.org/2000/svg\" height=\"24px\"viewBox=\"0 0 24 24\"\n",
              "       width=\"24px\">\n",
              "    <path d=\"M0 0h24v24H0V0z\" fill=\"none\"/>\n",
              "    <path d=\"M18.56 5.44l.94 2.06.94-2.06 2.06-.94-2.06-.94-.94-2.06-.94 2.06-2.06.94zm-11 1L8.5 8.5l.94-2.06 2.06-.94-2.06-.94L8.5 2.5l-.94 2.06-2.06.94zm10 10l.94 2.06.94-2.06 2.06-.94-2.06-.94-.94-2.06-.94 2.06-2.06.94z\"/><path d=\"M17.41 7.96l-1.37-1.37c-.4-.4-.92-.59-1.43-.59-.52 0-1.04.2-1.43.59L10.3 9.45l-7.72 7.72c-.78.78-.78 2.05 0 2.83L4 21.41c.39.39.9.59 1.41.59.51 0 1.02-.2 1.41-.59l7.78-7.78 2.81-2.81c.8-.78.8-2.07 0-2.86zM5.41 20L4 18.59l7.72-7.72 1.47 1.35L5.41 20z\"/>\n",
              "  </svg>\n",
              "      </button>\n",
              "      \n",
              "  <style>\n",
              "    .colab-df-container {\n",
              "      display:flex;\n",
              "      flex-wrap:wrap;\n",
              "      gap: 12px;\n",
              "    }\n",
              "\n",
              "    .colab-df-convert {\n",
              "      background-color: #E8F0FE;\n",
              "      border: none;\n",
              "      border-radius: 50%;\n",
              "      cursor: pointer;\n",
              "      display: none;\n",
              "      fill: #1967D2;\n",
              "      height: 32px;\n",
              "      padding: 0 0 0 0;\n",
              "      width: 32px;\n",
              "    }\n",
              "\n",
              "    .colab-df-convert:hover {\n",
              "      background-color: #E2EBFA;\n",
              "      box-shadow: 0px 1px 2px rgba(60, 64, 67, 0.3), 0px 1px 3px 1px rgba(60, 64, 67, 0.15);\n",
              "      fill: #174EA6;\n",
              "    }\n",
              "\n",
              "    [theme=dark] .colab-df-convert {\n",
              "      background-color: #3B4455;\n",
              "      fill: #D2E3FC;\n",
              "    }\n",
              "\n",
              "    [theme=dark] .colab-df-convert:hover {\n",
              "      background-color: #434B5C;\n",
              "      box-shadow: 0px 1px 3px 1px rgba(0, 0, 0, 0.15);\n",
              "      filter: drop-shadow(0px 1px 2px rgba(0, 0, 0, 0.3));\n",
              "      fill: #FFFFFF;\n",
              "    }\n",
              "  </style>\n",
              "\n",
              "      <script>\n",
              "        const buttonEl =\n",
              "          document.querySelector('#df-134f2f1a-f471-4c22-be92-130fb697de89 button.colab-df-convert');\n",
              "        buttonEl.style.display =\n",
              "          google.colab.kernel.accessAllowed ? 'block' : 'none';\n",
              "\n",
              "        async function convertToInteractive(key) {\n",
              "          const element = document.querySelector('#df-134f2f1a-f471-4c22-be92-130fb697de89');\n",
              "          const dataTable =\n",
              "            await google.colab.kernel.invokeFunction('convertToInteractive',\n",
              "                                                     [key], {});\n",
              "          if (!dataTable) return;\n",
              "\n",
              "          const docLinkHtml = 'Like what you see? Visit the ' +\n",
              "            '<a target=\"_blank\" href=https://colab.research.google.com/notebooks/data_table.ipynb>data table notebook</a>'\n",
              "            + ' to learn more about interactive tables.';\n",
              "          element.innerHTML = '';\n",
              "          dataTable['output_type'] = 'display_data';\n",
              "          await google.colab.output.renderOutput(dataTable, element);\n",
              "          const docLink = document.createElement('div');\n",
              "          docLink.innerHTML = docLinkHtml;\n",
              "          element.appendChild(docLink);\n",
              "        }\n",
              "      </script>\n",
              "    </div>\n",
              "  </div>\n",
              "  "
            ]
          },
          "metadata": {},
          "execution_count": 7
        }
      ],
      "source": [
        "data.head()"
      ],
      "id": "fc895b57"
    },
    {
      "cell_type": "code",
      "execution_count": 8,
      "metadata": {
        "id": "aa32d338",
        "colab": {
          "base_uri": "https://localhost:8080/"
        },
        "outputId": "8d518230-80e4-4d4f-8354-ac8cc00c4e97"
      },
      "outputs": [
        {
          "output_type": "execute_result",
          "data": {
            "text/plain": [
              "Unnamed: 0                0\n",
              "Index                     0\n",
              "pH                        0\n",
              "Iron                      0\n",
              "Nitrate                   0\n",
              "Chloride                  0\n",
              "Lead                      0\n",
              "Zinc                      0\n",
              "Turbidity                 0\n",
              "Fluoride                  0\n",
              "Copper                    0\n",
              "Odor                      0\n",
              "Sulfate                   0\n",
              "Conductivity              0\n",
              "Chlorine                  0\n",
              "Manganese                 0\n",
              "Total Dissolved Solids    0\n",
              "Water Temperature         0\n",
              "Air Temperature           0\n",
              "Target                    0\n",
              "Color_Colorless           0\n",
              "Color_Faint Yellow        0\n",
              "Color_Light Yellow        0\n",
              "Color_Near Colorless      0\n",
              "Color_Yellow              0\n",
              "dtype: int64"
            ]
          },
          "metadata": {},
          "execution_count": 8
        }
      ],
      "source": [
        "data.isnull().sum()"
      ],
      "id": "aa32d338"
    },
    {
      "cell_type": "code",
      "execution_count": 9,
      "metadata": {
        "id": "235d5215",
        "scrolled": true
      },
      "outputs": [],
      "source": [
        "# original.info()"
      ],
      "id": "235d5215"
    },
    {
      "cell_type": "code",
      "execution_count": 10,
      "metadata": {
        "id": "9aeacf64",
        "colab": {
          "base_uri": "https://localhost:8080/"
        },
        "outputId": "dc8115e9-ffb4-4266-ee27-1f23ddb09e27"
      },
      "outputs": [
        {
          "output_type": "stream",
          "name": "stdout",
          "text": [
            "There are 0 categorical variables\n",
            "\n",
            "The categorical variables are : []\n"
          ]
        }
      ],
      "source": [
        "#categorical variables\n",
        "\n",
        "categorical = [var for var in data.columns if data[var].dtype=='O']\n",
        "\n",
        "print('There are {} categorical variables\\n'.format(len(categorical)))\n",
        "\n",
        "print('The categorical variables are :', categorical)\n",
        "\n"
      ],
      "id": "9aeacf64"
    },
    {
      "cell_type": "code",
      "execution_count": 11,
      "metadata": {
        "id": "82ffc6e2",
        "colab": {
          "base_uri": "https://localhost:8080/"
        },
        "outputId": "27537207-c46a-473d-99d0-a722ba8b0f25"
      },
      "outputs": [
        {
          "output_type": "execute_result",
          "data": {
            "text/plain": [
              "array([0., 0., 0., ..., 1., 1., 1.])"
            ]
          },
          "metadata": {},
          "execution_count": 11
        }
      ],
      "source": [
        "y = np.ravel(data['Target'])\n",
        "y"
      ],
      "id": "82ffc6e2"
    },
    {
      "cell_type": "code",
      "execution_count": 58,
      "metadata": {
        "id": "f1743456",
        "scrolled": true
      },
      "outputs": [],
      "source": [
        "x = data.copy()\n",
        "x.drop('Target', axis = 1,inplace = True)\n"
      ],
      "id": "f1743456"
    },
    {
      "cell_type": "code",
      "execution_count": null,
      "metadata": {
        "id": "93226f16"
      },
      "outputs": [],
      "source": [
        "data.drop('Unnamed: 0', axis = 1, inplace = True)\n",
        "data.drop('Index', axis = 1, inplace = True)\n"
      ],
      "id": "93226f16"
    },
    {
      "cell_type": "code",
      "source": [
        "data.info()"
      ],
      "metadata": {
        "colab": {
          "base_uri": "https://localhost:8080/"
        },
        "id": "KfLwYJnwXL3f",
        "outputId": "e6c1fa8f-d4bb-42bd-b2bc-fe24924bd32f"
      },
      "id": "KfLwYJnwXL3f",
      "execution_count": 14,
      "outputs": [
        {
          "output_type": "stream",
          "name": "stdout",
          "text": [
            "<class 'pandas.core.frame.DataFrame'>\n",
            "RangeIndex: 5956842 entries, 0 to 5956841\n",
            "Data columns (total 23 columns):\n",
            " #   Column                  Dtype  \n",
            "---  ------                  -----  \n",
            " 0   pH                      float64\n",
            " 1   Iron                    float64\n",
            " 2   Nitrate                 float64\n",
            " 3   Chloride                float64\n",
            " 4   Lead                    float64\n",
            " 5   Zinc                    float64\n",
            " 6   Turbidity               float64\n",
            " 7   Fluoride                float64\n",
            " 8   Copper                  float64\n",
            " 9   Odor                    float64\n",
            " 10  Sulfate                 float64\n",
            " 11  Conductivity            float64\n",
            " 12  Chlorine                float64\n",
            " 13  Manganese               float64\n",
            " 14  Total Dissolved Solids  float64\n",
            " 15  Water Temperature       float64\n",
            " 16  Air Temperature         float64\n",
            " 17  Target                  float64\n",
            " 18  Color_Colorless         float64\n",
            " 19  Color_Faint Yellow      float64\n",
            " 20  Color_Light Yellow      float64\n",
            " 21  Color_Near Colorless    float64\n",
            " 22  Color_Yellow            float64\n",
            "dtypes: float64(23)\n",
            "memory usage: 1.0 GB\n"
          ]
        }
      ]
    },
    {
      "cell_type": "code",
      "execution_count": 15,
      "metadata": {
        "colab": {
          "base_uri": "https://localhost:8080/",
          "height": 445
        },
        "id": "DWmm5y-yh4pa",
        "outputId": "88bad79f-4fcf-488b-ee29-45c10c60ee0f"
      },
      "outputs": [
        {
          "output_type": "execute_result",
          "data": {
            "text/plain": [
              "                 pH          Iron       Nitrate      Chloride           Lead  \\\n",
              "count  5.956842e+06  5.956842e+06  5.956842e+06  5.956842e+06   5.956842e+06   \n",
              "mean   7.445373e+00  1.279027e-01  6.169970e+00  1.842970e+02   1.498336e-03   \n",
              "std    8.794721e-01  4.783872e-01  3.227637e+00  6.741255e+01   3.243291e-02   \n",
              "min    1.057113e+00  2.047587e-53  2.861727e-01  2.363919e+01   0.000000e+00   \n",
              "25%    6.906025e+00  1.052744e-05  4.002814e+00  1.393510e+02  3.766829e-122   \n",
              "50%    7.445373e+00  2.369800e-03  5.666858e+00  1.783345e+02   5.534643e-62   \n",
              "75%    8.002201e+00  5.756379e-02  7.625683e+00  2.165092e+02   8.838134e-27   \n",
              "max    1.291072e+01  1.935315e+01  9.639078e+01  1.507310e+03   5.844281e+00   \n",
              "\n",
              "               Zinc     Turbidity      Fluoride        Copper          Odor  \\\n",
              "count  5.956842e+06  5.956842e+06  5.956842e+06  5.956842e+06  5.956842e+06   \n",
              "mean   1.550255e+00  5.215093e-01  9.644315e-01  5.161216e-01  1.803459e+00   \n",
              "std    1.525968e+00  9.220012e-01  8.115861e-01  5.864837e-01  1.053403e+00   \n",
              "min    1.482707e-08  1.029712e-16  4.550148e-06  2.982735e-10  1.100007e-02   \n",
              "25%    4.291246e-01  3.950675e-02  3.867456e-01  1.349125e-01  9.194811e-01   \n",
              "50%    1.127029e+00  2.142737e-01  8.054145e-01  3.670169e-01  1.803459e+00   \n",
              "75%    2.187155e+00  6.197276e-01  1.318141e+00  6.851771e-01  2.627163e+00   \n",
              "max    2.836867e+01  2.371527e+01  1.464625e+01  1.207482e+01  4.141998e+00   \n",
              "\n",
              "       ...     Manganese  Total Dissolved Solids  Water Temperature  \\\n",
              "count  ...  5.956842e+06            5.956842e+06       5.956842e+06   \n",
              "mean   ...  1.092802e-01            2.671454e+02       1.912982e+01   \n",
              "std    ...  4.717824e-01            1.558367e+02       1.120458e+01   \n",
              "min    ...  4.793505e-55            1.048902e-02       6.661938e-01   \n",
              "25%    ...  2.922621e-06            1.329527e+02       1.149159e+01   \n",
              "50%    ...  7.518937e-04            2.659627e+02       1.677777e+01   \n",
              "75%    ...  1.941907e-02            3.984555e+02       2.354112e+01   \n",
              "max    ...  2.374086e+01            5.797999e+02       2.973086e+02   \n",
              "\n",
              "       Air Temperature        Target  Color_Colorless  Color_Faint Yellow  \\\n",
              "count     5.956842e+06  5.956842e+06     5.956842e+06        5.956842e+06   \n",
              "mean      6.000324e+01  3.030552e-01     3.001441e-01        1.812658e-01   \n",
              "std       1.805455e+01  4.595789e-01     4.583205e-01        3.852383e-01   \n",
              "min      -3.387091e+01  0.000000e+00     0.000000e+00        0.000000e+00   \n",
              "25%       4.786198e+01  0.000000e+00     0.000000e+00        0.000000e+00   \n",
              "50%       6.000324e+01  0.000000e+00     0.000000e+00        0.000000e+00   \n",
              "75%       7.214153e+01  1.000000e+00     1.000000e+00        0.000000e+00   \n",
              "max       1.521237e+02  1.000000e+00     1.000000e+00        1.000000e+00   \n",
              "\n",
              "       Color_Light Yellow  Color_Near Colorless  Color_Yellow  \n",
              "count        5.956842e+06          5.956842e+06  5.956842e+06  \n",
              "mean         1.272718e-01          2.998626e-01  9.049224e-02  \n",
              "std          3.332772e-01          4.581976e-01  2.868857e-01  \n",
              "min          0.000000e+00          0.000000e+00  0.000000e+00  \n",
              "25%          0.000000e+00          0.000000e+00  0.000000e+00  \n",
              "50%          0.000000e+00          0.000000e+00  0.000000e+00  \n",
              "75%          0.000000e+00          1.000000e+00  0.000000e+00  \n",
              "max          1.000000e+00          1.000000e+00  1.000000e+00  \n",
              "\n",
              "[8 rows x 23 columns]"
            ],
            "text/html": [
              "\n",
              "  <div id=\"df-513ec022-e534-4ffc-b9ed-3ea9883e7a43\">\n",
              "    <div class=\"colab-df-container\">\n",
              "      <div>\n",
              "<style scoped>\n",
              "    .dataframe tbody tr th:only-of-type {\n",
              "        vertical-align: middle;\n",
              "    }\n",
              "\n",
              "    .dataframe tbody tr th {\n",
              "        vertical-align: top;\n",
              "    }\n",
              "\n",
              "    .dataframe thead th {\n",
              "        text-align: right;\n",
              "    }\n",
              "</style>\n",
              "<table border=\"1\" class=\"dataframe\">\n",
              "  <thead>\n",
              "    <tr style=\"text-align: right;\">\n",
              "      <th></th>\n",
              "      <th>pH</th>\n",
              "      <th>Iron</th>\n",
              "      <th>Nitrate</th>\n",
              "      <th>Chloride</th>\n",
              "      <th>Lead</th>\n",
              "      <th>Zinc</th>\n",
              "      <th>Turbidity</th>\n",
              "      <th>Fluoride</th>\n",
              "      <th>Copper</th>\n",
              "      <th>Odor</th>\n",
              "      <th>...</th>\n",
              "      <th>Manganese</th>\n",
              "      <th>Total Dissolved Solids</th>\n",
              "      <th>Water Temperature</th>\n",
              "      <th>Air Temperature</th>\n",
              "      <th>Target</th>\n",
              "      <th>Color_Colorless</th>\n",
              "      <th>Color_Faint Yellow</th>\n",
              "      <th>Color_Light Yellow</th>\n",
              "      <th>Color_Near Colorless</th>\n",
              "      <th>Color_Yellow</th>\n",
              "    </tr>\n",
              "  </thead>\n",
              "  <tbody>\n",
              "    <tr>\n",
              "      <th>count</th>\n",
              "      <td>5.956842e+06</td>\n",
              "      <td>5.956842e+06</td>\n",
              "      <td>5.956842e+06</td>\n",
              "      <td>5.956842e+06</td>\n",
              "      <td>5.956842e+06</td>\n",
              "      <td>5.956842e+06</td>\n",
              "      <td>5.956842e+06</td>\n",
              "      <td>5.956842e+06</td>\n",
              "      <td>5.956842e+06</td>\n",
              "      <td>5.956842e+06</td>\n",
              "      <td>...</td>\n",
              "      <td>5.956842e+06</td>\n",
              "      <td>5.956842e+06</td>\n",
              "      <td>5.956842e+06</td>\n",
              "      <td>5.956842e+06</td>\n",
              "      <td>5.956842e+06</td>\n",
              "      <td>5.956842e+06</td>\n",
              "      <td>5.956842e+06</td>\n",
              "      <td>5.956842e+06</td>\n",
              "      <td>5.956842e+06</td>\n",
              "      <td>5.956842e+06</td>\n",
              "    </tr>\n",
              "    <tr>\n",
              "      <th>mean</th>\n",
              "      <td>7.445373e+00</td>\n",
              "      <td>1.279027e-01</td>\n",
              "      <td>6.169970e+00</td>\n",
              "      <td>1.842970e+02</td>\n",
              "      <td>1.498336e-03</td>\n",
              "      <td>1.550255e+00</td>\n",
              "      <td>5.215093e-01</td>\n",
              "      <td>9.644315e-01</td>\n",
              "      <td>5.161216e-01</td>\n",
              "      <td>1.803459e+00</td>\n",
              "      <td>...</td>\n",
              "      <td>1.092802e-01</td>\n",
              "      <td>2.671454e+02</td>\n",
              "      <td>1.912982e+01</td>\n",
              "      <td>6.000324e+01</td>\n",
              "      <td>3.030552e-01</td>\n",
              "      <td>3.001441e-01</td>\n",
              "      <td>1.812658e-01</td>\n",
              "      <td>1.272718e-01</td>\n",
              "      <td>2.998626e-01</td>\n",
              "      <td>9.049224e-02</td>\n",
              "    </tr>\n",
              "    <tr>\n",
              "      <th>std</th>\n",
              "      <td>8.794721e-01</td>\n",
              "      <td>4.783872e-01</td>\n",
              "      <td>3.227637e+00</td>\n",
              "      <td>6.741255e+01</td>\n",
              "      <td>3.243291e-02</td>\n",
              "      <td>1.525968e+00</td>\n",
              "      <td>9.220012e-01</td>\n",
              "      <td>8.115861e-01</td>\n",
              "      <td>5.864837e-01</td>\n",
              "      <td>1.053403e+00</td>\n",
              "      <td>...</td>\n",
              "      <td>4.717824e-01</td>\n",
              "      <td>1.558367e+02</td>\n",
              "      <td>1.120458e+01</td>\n",
              "      <td>1.805455e+01</td>\n",
              "      <td>4.595789e-01</td>\n",
              "      <td>4.583205e-01</td>\n",
              "      <td>3.852383e-01</td>\n",
              "      <td>3.332772e-01</td>\n",
              "      <td>4.581976e-01</td>\n",
              "      <td>2.868857e-01</td>\n",
              "    </tr>\n",
              "    <tr>\n",
              "      <th>min</th>\n",
              "      <td>1.057113e+00</td>\n",
              "      <td>2.047587e-53</td>\n",
              "      <td>2.861727e-01</td>\n",
              "      <td>2.363919e+01</td>\n",
              "      <td>0.000000e+00</td>\n",
              "      <td>1.482707e-08</td>\n",
              "      <td>1.029712e-16</td>\n",
              "      <td>4.550148e-06</td>\n",
              "      <td>2.982735e-10</td>\n",
              "      <td>1.100007e-02</td>\n",
              "      <td>...</td>\n",
              "      <td>4.793505e-55</td>\n",
              "      <td>1.048902e-02</td>\n",
              "      <td>6.661938e-01</td>\n",
              "      <td>-3.387091e+01</td>\n",
              "      <td>0.000000e+00</td>\n",
              "      <td>0.000000e+00</td>\n",
              "      <td>0.000000e+00</td>\n",
              "      <td>0.000000e+00</td>\n",
              "      <td>0.000000e+00</td>\n",
              "      <td>0.000000e+00</td>\n",
              "    </tr>\n",
              "    <tr>\n",
              "      <th>25%</th>\n",
              "      <td>6.906025e+00</td>\n",
              "      <td>1.052744e-05</td>\n",
              "      <td>4.002814e+00</td>\n",
              "      <td>1.393510e+02</td>\n",
              "      <td>3.766829e-122</td>\n",
              "      <td>4.291246e-01</td>\n",
              "      <td>3.950675e-02</td>\n",
              "      <td>3.867456e-01</td>\n",
              "      <td>1.349125e-01</td>\n",
              "      <td>9.194811e-01</td>\n",
              "      <td>...</td>\n",
              "      <td>2.922621e-06</td>\n",
              "      <td>1.329527e+02</td>\n",
              "      <td>1.149159e+01</td>\n",
              "      <td>4.786198e+01</td>\n",
              "      <td>0.000000e+00</td>\n",
              "      <td>0.000000e+00</td>\n",
              "      <td>0.000000e+00</td>\n",
              "      <td>0.000000e+00</td>\n",
              "      <td>0.000000e+00</td>\n",
              "      <td>0.000000e+00</td>\n",
              "    </tr>\n",
              "    <tr>\n",
              "      <th>50%</th>\n",
              "      <td>7.445373e+00</td>\n",
              "      <td>2.369800e-03</td>\n",
              "      <td>5.666858e+00</td>\n",
              "      <td>1.783345e+02</td>\n",
              "      <td>5.534643e-62</td>\n",
              "      <td>1.127029e+00</td>\n",
              "      <td>2.142737e-01</td>\n",
              "      <td>8.054145e-01</td>\n",
              "      <td>3.670169e-01</td>\n",
              "      <td>1.803459e+00</td>\n",
              "      <td>...</td>\n",
              "      <td>7.518937e-04</td>\n",
              "      <td>2.659627e+02</td>\n",
              "      <td>1.677777e+01</td>\n",
              "      <td>6.000324e+01</td>\n",
              "      <td>0.000000e+00</td>\n",
              "      <td>0.000000e+00</td>\n",
              "      <td>0.000000e+00</td>\n",
              "      <td>0.000000e+00</td>\n",
              "      <td>0.000000e+00</td>\n",
              "      <td>0.000000e+00</td>\n",
              "    </tr>\n",
              "    <tr>\n",
              "      <th>75%</th>\n",
              "      <td>8.002201e+00</td>\n",
              "      <td>5.756379e-02</td>\n",
              "      <td>7.625683e+00</td>\n",
              "      <td>2.165092e+02</td>\n",
              "      <td>8.838134e-27</td>\n",
              "      <td>2.187155e+00</td>\n",
              "      <td>6.197276e-01</td>\n",
              "      <td>1.318141e+00</td>\n",
              "      <td>6.851771e-01</td>\n",
              "      <td>2.627163e+00</td>\n",
              "      <td>...</td>\n",
              "      <td>1.941907e-02</td>\n",
              "      <td>3.984555e+02</td>\n",
              "      <td>2.354112e+01</td>\n",
              "      <td>7.214153e+01</td>\n",
              "      <td>1.000000e+00</td>\n",
              "      <td>1.000000e+00</td>\n",
              "      <td>0.000000e+00</td>\n",
              "      <td>0.000000e+00</td>\n",
              "      <td>1.000000e+00</td>\n",
              "      <td>0.000000e+00</td>\n",
              "    </tr>\n",
              "    <tr>\n",
              "      <th>max</th>\n",
              "      <td>1.291072e+01</td>\n",
              "      <td>1.935315e+01</td>\n",
              "      <td>9.639078e+01</td>\n",
              "      <td>1.507310e+03</td>\n",
              "      <td>5.844281e+00</td>\n",
              "      <td>2.836867e+01</td>\n",
              "      <td>2.371527e+01</td>\n",
              "      <td>1.464625e+01</td>\n",
              "      <td>1.207482e+01</td>\n",
              "      <td>4.141998e+00</td>\n",
              "      <td>...</td>\n",
              "      <td>2.374086e+01</td>\n",
              "      <td>5.797999e+02</td>\n",
              "      <td>2.973086e+02</td>\n",
              "      <td>1.521237e+02</td>\n",
              "      <td>1.000000e+00</td>\n",
              "      <td>1.000000e+00</td>\n",
              "      <td>1.000000e+00</td>\n",
              "      <td>1.000000e+00</td>\n",
              "      <td>1.000000e+00</td>\n",
              "      <td>1.000000e+00</td>\n",
              "    </tr>\n",
              "  </tbody>\n",
              "</table>\n",
              "<p>8 rows × 23 columns</p>\n",
              "</div>\n",
              "      <button class=\"colab-df-convert\" onclick=\"convertToInteractive('df-513ec022-e534-4ffc-b9ed-3ea9883e7a43')\"\n",
              "              title=\"Convert this dataframe to an interactive table.\"\n",
              "              style=\"display:none;\">\n",
              "        \n",
              "  <svg xmlns=\"http://www.w3.org/2000/svg\" height=\"24px\"viewBox=\"0 0 24 24\"\n",
              "       width=\"24px\">\n",
              "    <path d=\"M0 0h24v24H0V0z\" fill=\"none\"/>\n",
              "    <path d=\"M18.56 5.44l.94 2.06.94-2.06 2.06-.94-2.06-.94-.94-2.06-.94 2.06-2.06.94zm-11 1L8.5 8.5l.94-2.06 2.06-.94-2.06-.94L8.5 2.5l-.94 2.06-2.06.94zm10 10l.94 2.06.94-2.06 2.06-.94-2.06-.94-.94-2.06-.94 2.06-2.06.94z\"/><path d=\"M17.41 7.96l-1.37-1.37c-.4-.4-.92-.59-1.43-.59-.52 0-1.04.2-1.43.59L10.3 9.45l-7.72 7.72c-.78.78-.78 2.05 0 2.83L4 21.41c.39.39.9.59 1.41.59.51 0 1.02-.2 1.41-.59l7.78-7.78 2.81-2.81c.8-.78.8-2.07 0-2.86zM5.41 20L4 18.59l7.72-7.72 1.47 1.35L5.41 20z\"/>\n",
              "  </svg>\n",
              "      </button>\n",
              "      \n",
              "  <style>\n",
              "    .colab-df-container {\n",
              "      display:flex;\n",
              "      flex-wrap:wrap;\n",
              "      gap: 12px;\n",
              "    }\n",
              "\n",
              "    .colab-df-convert {\n",
              "      background-color: #E8F0FE;\n",
              "      border: none;\n",
              "      border-radius: 50%;\n",
              "      cursor: pointer;\n",
              "      display: none;\n",
              "      fill: #1967D2;\n",
              "      height: 32px;\n",
              "      padding: 0 0 0 0;\n",
              "      width: 32px;\n",
              "    }\n",
              "\n",
              "    .colab-df-convert:hover {\n",
              "      background-color: #E2EBFA;\n",
              "      box-shadow: 0px 1px 2px rgba(60, 64, 67, 0.3), 0px 1px 3px 1px rgba(60, 64, 67, 0.15);\n",
              "      fill: #174EA6;\n",
              "    }\n",
              "\n",
              "    [theme=dark] .colab-df-convert {\n",
              "      background-color: #3B4455;\n",
              "      fill: #D2E3FC;\n",
              "    }\n",
              "\n",
              "    [theme=dark] .colab-df-convert:hover {\n",
              "      background-color: #434B5C;\n",
              "      box-shadow: 0px 1px 3px 1px rgba(0, 0, 0, 0.15);\n",
              "      filter: drop-shadow(0px 1px 2px rgba(0, 0, 0, 0.3));\n",
              "      fill: #FFFFFF;\n",
              "    }\n",
              "  </style>\n",
              "\n",
              "      <script>\n",
              "        const buttonEl =\n",
              "          document.querySelector('#df-513ec022-e534-4ffc-b9ed-3ea9883e7a43 button.colab-df-convert');\n",
              "        buttonEl.style.display =\n",
              "          google.colab.kernel.accessAllowed ? 'block' : 'none';\n",
              "\n",
              "        async function convertToInteractive(key) {\n",
              "          const element = document.querySelector('#df-513ec022-e534-4ffc-b9ed-3ea9883e7a43');\n",
              "          const dataTable =\n",
              "            await google.colab.kernel.invokeFunction('convertToInteractive',\n",
              "                                                     [key], {});\n",
              "          if (!dataTable) return;\n",
              "\n",
              "          const docLinkHtml = 'Like what you see? Visit the ' +\n",
              "            '<a target=\"_blank\" href=https://colab.research.google.com/notebooks/data_table.ipynb>data table notebook</a>'\n",
              "            + ' to learn more about interactive tables.';\n",
              "          element.innerHTML = '';\n",
              "          dataTable['output_type'] = 'display_data';\n",
              "          await google.colab.output.renderOutput(dataTable, element);\n",
              "          const docLink = document.createElement('div');\n",
              "          docLink.innerHTML = docLinkHtml;\n",
              "          element.appendChild(docLink);\n",
              "        }\n",
              "      </script>\n",
              "    </div>\n",
              "  </div>\n",
              "  "
            ]
          },
          "metadata": {},
          "execution_count": 15
        }
      ],
      "source": [
        "data.describe()"
      ],
      "id": "DWmm5y-yh4pa"
    },
    {
      "cell_type": "code",
      "execution_count": 16,
      "metadata": {
        "colab": {
          "base_uri": "https://localhost:8080/"
        },
        "id": "1lMCicvHiJjZ",
        "outputId": "ae7c5c23-8501-4345-bb75-7a8829a24acf"
      },
      "outputs": [
        {
          "output_type": "execute_result",
          "data": {
            "text/plain": [
              "(5956842, 23)"
            ]
          },
          "metadata": {},
          "execution_count": 16
        }
      ],
      "source": [
        "data.shape"
      ],
      "id": "1lMCicvHiJjZ"
    },
    {
      "cell_type": "code",
      "execution_count": 17,
      "metadata": {
        "id": "5b0ca940"
      },
      "outputs": [],
      "source": [
        "x.drop('Unnamed: 0',axis = 1, inplace = True)"
      ],
      "id": "5b0ca940"
    },
    {
      "cell_type": "code",
      "execution_count": 18,
      "metadata": {
        "id": "ffa2c1ac"
      },
      "outputs": [],
      "source": [
        "x.drop('Index', axis = 1, inplace = True)"
      ],
      "id": "ffa2c1ac"
    },
    {
      "cell_type": "code",
      "execution_count": 19,
      "metadata": {
        "colab": {
          "base_uri": "https://localhost:8080/"
        },
        "id": "151a6747",
        "outputId": "75de7019-3b04-4909-b74e-569a8a69d87a"
      },
      "outputs": [
        {
          "output_type": "execute_result",
          "data": {
            "text/plain": [
              "(5956842, 22)"
            ]
          },
          "metadata": {},
          "execution_count": 19
        }
      ],
      "source": [
        "x.shape"
      ],
      "id": "151a6747"
    },
    {
      "cell_type": "code",
      "execution_count": 20,
      "metadata": {
        "colab": {
          "base_uri": "https://localhost:8080/"
        },
        "id": "8da6b29b",
        "outputId": "a946b78c-86b3-4c6a-d279-c92e274431ec"
      },
      "outputs": [
        {
          "output_type": "execute_result",
          "data": {
            "text/plain": [
              "0.0    4151590\n",
              "1.0    1805252\n",
              "Name: Target, dtype: int64"
            ]
          },
          "metadata": {},
          "execution_count": 20
        }
      ],
      "source": [
        "data['Target'].value_counts()"
      ],
      "id": "8da6b29b"
    },
    {
      "cell_type": "code",
      "execution_count": 53,
      "metadata": {
        "colab": {
          "base_uri": "https://localhost:8080/",
          "height": 307
        },
        "id": "597cd5eb",
        "outputId": "7175fc3a-16b1-424c-a11e-3f728f85859b"
      },
      "outputs": [
        {
          "output_type": "display_data",
          "data": {
            "text/plain": [
              "<Figure size 432x288 with 1 Axes>"
            ],
            "image/png": "[encoded data removed]"
          },
          "metadata": {
            "needs_background": "light"
          }
        },
        {
          "output_type": "display_data",
          "data": {
            "text/plain": [
              "<Figure size 432x288 with 0 Axes>"
            ]
          },
          "metadata": {}
        }
      ],
      "source": [
        "import seaborn as sns\n",
        "sns.countplot(x=data['Target'],data=data, palette='hls')\n",
        "plt.show()\n",
        "\n",
        "plt.savefig('count_plot')"
      ],
      "id": "597cd5eb"
    },
    {
      "cell_type": "code",
      "execution_count": 54,
      "metadata": {
        "id": "a58af16d"
      },
      "outputs": [],
      "source": [
        "corr = data.corr()"
      ],
      "id": "a58af16d"
    },
    {
      "cell_type": "code",
      "execution_count": 55,
      "metadata": {
        "colab": {
          "base_uri": "https://localhost:8080/",
          "height": 1000
        },
        "id": "sZlh-eP3E25l",
        "outputId": "2c2e6ba2-d525-4fcb-b122-00c1d091ffd7"
      },
      "outputs": [
        {
          "output_type": "execute_result",
          "data": {
            "text/plain": [
              "<matplotlib.axes._subplots.AxesSubplot at 0x7f0930fa40d0>"
            ]
          },
          "metadata": {},
          "execution_count": 55
        },
        {
          "output_type": "display_data",
          "data": {
            "text/plain": [
              "<Figure size 1656x1656 with 2 Axes>"
            ],
            "image/png": "[encoded data removed]"
          },
          "metadata": {
            "needs_background": "light"
          }
        }
      ],
      "source": [
        "data_corr = data.corr()\n",
        "plt.figure(figsize=(23,23))\n",
        "sns.heatmap(data_corr, annot = True)\n",
        "\n"
      ],
      "id": "sZlh-eP3E25l"
    },
    {
      "cell_type": "code",
      "execution_count": null,
      "metadata": {
        "id": "fbe47796",
        "scrolled": true
      },
      "outputs": [],
      "source": [
        "x.groupby(y).mean()\n"
      ],
      "id": "fbe47796"
    },
    {
      "cell_type": "code",
      "execution_count": 25,
      "metadata": {
        "colab": {
          "base_uri": "https://localhost:8080/"
        },
        "id": "c1c79723",
        "outputId": "cd89795c-3f2b-4a74-ce7a-3f120e189e94"
      },
      "outputs": [
        {
          "output_type": "execute_result",
          "data": {
            "text/plain": [
              "array([[6.13811156e-01, 4.31312437e-06, 8.65682172e-02, ...,\n",
              "        0.00000000e+00, 0.00000000e+00, 0.00000000e+00],\n",
              "       [4.94427600e-01, 4.16150817e-06, 3.58775094e-02, ...,\n",
              "        0.00000000e+00, 0.00000000e+00, 0.00000000e+00],\n",
              "       [3.70068737e-01, 1.03889364e-03, 3.67393536e-02, ...,\n",
              "        1.00000000e+00, 0.00000000e+00, 0.00000000e+00],\n",
              "       ...,\n",
              "       [5.98000214e-01, 2.56852418e-07, 7.10341036e-02, ...,\n",
              "        0.00000000e+00, 0.00000000e+00, 0.00000000e+00],\n",
              "       [6.08796634e-01, 6.38825283e-05, 1.02973582e-01, ...,\n",
              "        1.00000000e+00, 0.00000000e+00, 0.00000000e+00],\n",
              "       [5.46872396e-01, 1.17604823e-03, 4.80353528e-02, ...,\n",
              "        1.00000000e+00, 0.00000000e+00, 0.00000000e+00]])"
            ]
          },
          "metadata": {},
          "execution_count": 25
        }
      ],
      "source": [
        "from sklearn.preprocessing import MinMaxScaler\n",
        "scaler = MinMaxScaler()\n",
        "scaler.fit_transform(x)\n",
        "\n"
      ],
      "id": "c1c79723"
    },
    {
      "cell_type": "code",
      "execution_count": 26,
      "metadata": {
        "colab": {
          "base_uri": "https://localhost:8080/",
          "height": 421
        },
        "id": "d6efc51c",
        "outputId": "6ca29c45-1e26-4653-e47b-1009c4bf32d7"
      },
      "outputs": [
        {
          "output_type": "execute_result",
          "data": {
            "text/plain": [
              "         pH      Iron   Nitrate    Chloride           Lead      Zinc  \\\n",
              "0  8.332988  0.000083  8.605777  122.799772   3.713298e-52  3.434827   \n",
              "1  6.917863  0.000081  3.734167  227.029851   7.849262e-94  1.245317   \n",
              "2  5.443762  0.020106  3.816994  230.995630   5.286616e-76  0.528280   \n",
              "3  7.955339  0.143988  8.224944  178.129940  3.997118e-176  4.027879   \n",
              "4  8.091909  0.002167  9.925788  186.540872  4.171069e-132  3.807511   \n",
              "\n",
              "   Turbidity  Fluoride    Copper      Odor  ...  Chlorine     Manganese  \\\n",
              "0   0.022683  0.607283  0.144599  1.626212  ...  3.708178  2.269945e-15   \n",
              "1   0.019007  0.622874  0.437835  1.686049  ...  3.292038  8.024076e-07   \n",
              "2   0.319956  0.423423  0.431588  3.414619  ...  3.560224  7.007989e-02   \n",
              "3   0.166319  0.208454  0.239451  1.803459  ...  3.516907  2.468295e-02   \n",
              "4   0.004867  0.222912  0.616574  0.795310  ...  3.177849  3.296139e-03   \n",
              "\n",
              "   Total Dissolved Solids  Water Temperature  Air Temperature  \\\n",
              "0              332.118789          19.129818        43.493324   \n",
              "1              284.641984          15.348981        71.220586   \n",
              "2              570.054094          11.643467        44.891330   \n",
              "3              100.043838          10.092392        60.843233   \n",
              "4              168.075545          15.249416        69.336671   \n",
              "\n",
              "   Color_Colorless  Color_Faint Yellow  Color_Light Yellow  \\\n",
              "0              1.0                 0.0                 0.0   \n",
              "1              0.0                 1.0                 0.0   \n",
              "2              0.0                 0.0                 1.0   \n",
              "3              0.0                 0.0                 0.0   \n",
              "4              0.0                 0.0                 1.0   \n",
              "\n",
              "   Color_Near Colorless  Color_Yellow  \n",
              "0                   0.0           0.0  \n",
              "1                   0.0           0.0  \n",
              "2                   0.0           0.0  \n",
              "3                   1.0           0.0  \n",
              "4                   0.0           0.0  \n",
              "\n",
              "[5 rows x 22 columns]"
            ],
            "text/html": [
              "\n",
              "  <div id=\"df-f7e57e63-5f2a-477c-ac9e-aee7bc5b3592\">\n",
              "    <div class=\"colab-df-container\">\n",
              "      <div>\n",
              "<style scoped>\n",
              "    .dataframe tbody tr th:only-of-type {\n",
              "        vertical-align: middle;\n",
              "    }\n",
              "\n",
              "    .dataframe tbody tr th {\n",
              "        vertical-align: top;\n",
              "    }\n",
              "\n",
              "    .dataframe thead th {\n",
              "        text-align: right;\n",
              "    }\n",
              "</style>\n",
              "<table border=\"1\" class=\"dataframe\">\n",
              "  <thead>\n",
              "    <tr style=\"text-align: right;\">\n",
              "      <th></th>\n",
              "      <th>pH</th>\n",
              "      <th>Iron</th>\n",
              "      <th>Nitrate</th>\n",
              "      <th>Chloride</th>\n",
              "      <th>Lead</th>\n",
              "      <th>Zinc</th>\n",
              "      <th>Turbidity</th>\n",
              "      <th>Fluoride</th>\n",
              "      <th>Copper</th>\n",
              "      <th>Odor</th>\n",
              "      <th>...</th>\n",
              "      <th>Chlorine</th>\n",
              "      <th>Manganese</th>\n",
              "      <th>Total Dissolved Solids</th>\n",
              "      <th>Water Temperature</th>\n",
              "      <th>Air Temperature</th>\n",
              "      <th>Color_Colorless</th>\n",
              "      <th>Color_Faint Yellow</th>\n",
              "      <th>Color_Light Yellow</th>\n",
              "      <th>Color_Near Colorless</th>\n",
              "      <th>Color_Yellow</th>\n",
              "    </tr>\n",
              "  </thead>\n",
              "  <tbody>\n",
              "    <tr>\n",
              "      <th>0</th>\n",
              "      <td>8.332988</td>\n",
              "      <td>0.000083</td>\n",
              "      <td>8.605777</td>\n",
              "      <td>122.799772</td>\n",
              "      <td>3.713298e-52</td>\n",
              "      <td>3.434827</td>\n",
              "      <td>0.022683</td>\n",
              "      <td>0.607283</td>\n",
              "      <td>0.144599</td>\n",
              "      <td>1.626212</td>\n",
              "      <td>...</td>\n",
              "      <td>3.708178</td>\n",
              "      <td>2.269945e-15</td>\n",
              "      <td>332.118789</td>\n",
              "      <td>19.129818</td>\n",
              "      <td>43.493324</td>\n",
              "      <td>1.0</td>\n",
              "      <td>0.0</td>\n",
              "      <td>0.0</td>\n",
              "      <td>0.0</td>\n",
              "      <td>0.0</td>\n",
              "    </tr>\n",
              "    <tr>\n",
              "      <th>1</th>\n",
              "      <td>6.917863</td>\n",
              "      <td>0.000081</td>\n",
              "      <td>3.734167</td>\n",
              "      <td>227.029851</td>\n",
              "      <td>7.849262e-94</td>\n",
              "      <td>1.245317</td>\n",
              "      <td>0.019007</td>\n",
              "      <td>0.622874</td>\n",
              "      <td>0.437835</td>\n",
              "      <td>1.686049</td>\n",
              "      <td>...</td>\n",
              "      <td>3.292038</td>\n",
              "      <td>8.024076e-07</td>\n",
              "      <td>284.641984</td>\n",
              "      <td>15.348981</td>\n",
              "      <td>71.220586</td>\n",
              "      <td>0.0</td>\n",
              "      <td>1.0</td>\n",
              "      <td>0.0</td>\n",
              "      <td>0.0</td>\n",
              "      <td>0.0</td>\n",
              "    </tr>\n",
              "    <tr>\n",
              "      <th>2</th>\n",
              "      <td>5.443762</td>\n",
              "      <td>0.020106</td>\n",
              "      <td>3.816994</td>\n",
              "      <td>230.995630</td>\n",
              "      <td>5.286616e-76</td>\n",
              "      <td>0.528280</td>\n",
              "      <td>0.319956</td>\n",
              "      <td>0.423423</td>\n",
              "      <td>0.431588</td>\n",
              "      <td>3.414619</td>\n",
              "      <td>...</td>\n",
              "      <td>3.560224</td>\n",
              "      <td>7.007989e-02</td>\n",
              "      <td>570.054094</td>\n",
              "      <td>11.643467</td>\n",
              "      <td>44.891330</td>\n",
              "      <td>0.0</td>\n",
              "      <td>0.0</td>\n",
              "      <td>1.0</td>\n",
              "      <td>0.0</td>\n",
              "      <td>0.0</td>\n",
              "    </tr>\n",
              "    <tr>\n",
              "      <th>3</th>\n",
              "      <td>7.955339</td>\n",
              "      <td>0.143988</td>\n",
              "      <td>8.224944</td>\n",
              "      <td>178.129940</td>\n",
              "      <td>3.997118e-176</td>\n",
              "      <td>4.027879</td>\n",
              "      <td>0.166319</td>\n",
              "      <td>0.208454</td>\n",
              "      <td>0.239451</td>\n",
              "      <td>1.803459</td>\n",
              "      <td>...</td>\n",
              "      <td>3.516907</td>\n",
              "      <td>2.468295e-02</td>\n",
              "      <td>100.043838</td>\n",
              "      <td>10.092392</td>\n",
              "      <td>60.843233</td>\n",
              "      <td>0.0</td>\n",
              "      <td>0.0</td>\n",
              "      <td>0.0</td>\n",
              "      <td>1.0</td>\n",
              "      <td>0.0</td>\n",
              "    </tr>\n",
              "    <tr>\n",
              "      <th>4</th>\n",
              "      <td>8.091909</td>\n",
              "      <td>0.002167</td>\n",
              "      <td>9.925788</td>\n",
              "      <td>186.540872</td>\n",
              "      <td>4.171069e-132</td>\n",
              "      <td>3.807511</td>\n",
              "      <td>0.004867</td>\n",
              "      <td>0.222912</td>\n",
              "      <td>0.616574</td>\n",
              "      <td>0.795310</td>\n",
              "      <td>...</td>\n",
              "      <td>3.177849</td>\n",
              "      <td>3.296139e-03</td>\n",
              "      <td>168.075545</td>\n",
              "      <td>15.249416</td>\n",
              "      <td>69.336671</td>\n",
              "      <td>0.0</td>\n",
              "      <td>0.0</td>\n",
              "      <td>1.0</td>\n",
              "      <td>0.0</td>\n",
              "      <td>0.0</td>\n",
              "    </tr>\n",
              "  </tbody>\n",
              "</table>\n",
              "<p>5 rows × 22 columns</p>\n",
              "</div>\n",
              "      <button class=\"colab-df-convert\" onclick=\"convertToInteractive('df-f7e57e63-5f2a-477c-ac9e-aee7bc5b3592')\"\n",
              "              title=\"Convert this dataframe to an interactive table.\"\n",
              "              style=\"display:none;\">\n",
              "        \n",
              "  <svg xmlns=\"http://www.w3.org/2000/svg\" height=\"24px\"viewBox=\"0 0 24 24\"\n",
              "       width=\"24px\">\n",
              "    <path d=\"M0 0h24v24H0V0z\" fill=\"none\"/>\n",
              "    <path d=\"M18.56 5.44l.94 2.06.94-2.06 2.06-.94-2.06-.94-.94-2.06-.94 2.06-2.06.94zm-11 1L8.5 8.5l.94-2.06 2.06-.94-2.06-.94L8.5 2.5l-.94 2.06-2.06.94zm10 10l.94 2.06.94-2.06 2.06-.94-2.06-.94-.94-2.06-.94 2.06-2.06.94z\"/><path d=\"M17.41 7.96l-1.37-1.37c-.4-.4-.92-.59-1.43-.59-.52 0-1.04.2-1.43.59L10.3 9.45l-7.72 7.72c-.78.78-.78 2.05 0 2.83L4 21.41c.39.39.9.59 1.41.59.51 0 1.02-.2 1.41-.59l7.78-7.78 2.81-2.81c.8-.78.8-2.07 0-2.86zM5.41 20L4 18.59l7.72-7.72 1.47 1.35L5.41 20z\"/>\n",
              "  </svg>\n",
              "      </button>\n",
              "      \n",
              "  <style>\n",
              "    .colab-df-container {\n",
              "      display:flex;\n",
              "      flex-wrap:wrap;\n",
              "      gap: 12px;\n",
              "    }\n",
              "\n",
              "    .colab-df-convert {\n",
              "      background-color: #E8F0FE;\n",
              "      border: none;\n",
              "      border-radius: 50%;\n",
              "      cursor: pointer;\n",
              "      display: none;\n",
              "      fill: #1967D2;\n",
              "      height: 32px;\n",
              "      padding: 0 0 0 0;\n",
              "      width: 32px;\n",
              "    }\n",
              "\n",
              "    .colab-df-convert:hover {\n",
              "      background-color: #E2EBFA;\n",
              "      box-shadow: 0px 1px 2px rgba(60, 64, 67, 0.3), 0px 1px 3px 1px rgba(60, 64, 67, 0.15);\n",
              "      fill: #174EA6;\n",
              "    }\n",
              "\n",
              "    [theme=dark] .colab-df-convert {\n",
              "      background-color: #3B4455;\n",
              "      fill: #D2E3FC;\n",
              "    }\n",
              "\n",
              "    [theme=dark] .colab-df-convert:hover {\n",
              "      background-color: #434B5C;\n",
              "      box-shadow: 0px 1px 3px 1px rgba(0, 0, 0, 0.15);\n",
              "      filter: drop-shadow(0px 1px 2px rgba(0, 0, 0, 0.3));\n",
              "      fill: #FFFFFF;\n",
              "    }\n",
              "  </style>\n",
              "\n",
              "      <script>\n",
              "        const buttonEl =\n",
              "          document.querySelector('#df-f7e57e63-5f2a-477c-ac9e-aee7bc5b3592 button.colab-df-convert');\n",
              "        buttonEl.style.display =\n",
              "          google.colab.kernel.accessAllowed ? 'block' : 'none';\n",
              "\n",
              "        async function convertToInteractive(key) {\n",
              "          const element = document.querySelector('#df-f7e57e63-5f2a-477c-ac9e-aee7bc5b3592');\n",
              "          const dataTable =\n",
              "            await google.colab.kernel.invokeFunction('convertToInteractive',\n",
              "                                                     [key], {});\n",
              "          if (!dataTable) return;\n",
              "\n",
              "          const docLinkHtml = 'Like what you see? Visit the ' +\n",
              "            '<a target=\"_blank\" href=https://colab.research.google.com/notebooks/data_table.ipynb>data table notebook</a>'\n",
              "            + ' to learn more about interactive tables.';\n",
              "          element.innerHTML = '';\n",
              "          dataTable['output_type'] = 'display_data';\n",
              "          await google.colab.output.renderOutput(dataTable, element);\n",
              "          const docLink = document.createElement('div');\n",
              "          docLink.innerHTML = docLinkHtml;\n",
              "          element.appendChild(docLink);\n",
              "        }\n",
              "      </script>\n",
              "    </div>\n",
              "  </div>\n",
              "  "
            ]
          },
          "metadata": {},
          "execution_count": 26
        }
      ],
      "source": [
        "x.head()"
      ],
      "id": "d6efc51c"
    },
    {
      "cell_type": "code",
      "execution_count": 27,
      "metadata": {
        "id": "b0afa117"
      },
      "outputs": [],
      "source": [
        "from sklearn.decomposition import PCA\n",
        "pca =PCA(n_components = 14)\n",
        "x = pca.fit_transform(x)"
      ],
      "id": "b0afa117"
    },
    {
      "cell_type": "code",
      "execution_count": 28,
      "metadata": {
        "id": "c52eeac4",
        "colab": {
          "base_uri": "https://localhost:8080/"
        },
        "outputId": "43025328-7945-4408-b833-1e5a30467e50"
      },
      "outputs": [
        {
          "output_type": "execute_result",
          "data": {
            "text/plain": [
              "(5956842, 14)"
            ]
          },
          "metadata": {},
          "execution_count": 28
        }
      ],
      "source": [
        "x.shape\n"
      ],
      "id": "c52eeac4"
    },
    {
      "cell_type": "code",
      "execution_count": 29,
      "metadata": {
        "id": "EUEg_IjlOjCd"
      },
      "outputs": [],
      "source": [
        "from sklearn.model_selection import train_test_split\n",
        "x_train,x_test,y_train,y_test = train_test_split(x,y,test_size = 0.3, random_state = 42)"
      ],
      "id": "EUEg_IjlOjCd"
    },
    {
      "cell_type": "code",
      "execution_count": 30,
      "metadata": {
        "id": "zGF7pROYZh-7"
      },
      "outputs": [],
      "source": [
        "# pd.DataFrame(y_train).value_counts()"
      ],
      "id": "zGF7pROYZh-7"
    },
    {
      "cell_type": "code",
      "execution_count": 31,
      "metadata": {
        "id": "0QdKUvoVbrHZ"
      },
      "outputs": [],
      "source": [
        "# pd.DataFrame(y_test).value_counts()\n"
      ],
      "id": "0QdKUvoVbrHZ"
    },
    {
      "cell_type": "code",
      "execution_count": 32,
      "metadata": {
        "id": "0623tFKLQ8xt"
      },
      "outputs": [],
      "source": [
        "# x_test.shape"
      ],
      "id": "0623tFKLQ8xt"
    },
    {
      "cell_type": "code",
      "execution_count": 33,
      "metadata": {
        "id": "0y70oNz0RG9G"
      },
      "outputs": [],
      "source": [
        "# y_test.shape"
      ],
      "id": "0y70oNz0RG9G"
    },
    {
      "cell_type": "code",
      "execution_count": 34,
      "metadata": {
        "id": "vPt0rs8jdGvK"
      },
      "outputs": [],
      "source": [
        "from imblearn.over_sampling import SMOTE"
      ],
      "id": "vPt0rs8jdGvK"
    },
    {
      "cell_type": "code",
      "execution_count": 35,
      "metadata": {
        "id": "gUriX6vfdHiQ",
        "colab": {
          "base_uri": "https://localhost:8080/"
        },
        "outputId": "716aae5b-9983-4a99-c29a-15e77dbd7e06"
      },
      "outputs": [
        {
          "output_type": "execute_result",
          "data": {
            "text/plain": [
              "(4169789, 14)"
            ]
          },
          "metadata": {},
          "execution_count": 35
        }
      ],
      "source": [
        "x_train.shape"
      ],
      "id": "gUriX6vfdHiQ"
    },
    {
      "cell_type": "code",
      "execution_count": 36,
      "metadata": {
        "id": "NWdhqFuJgoom"
      },
      "outputs": [],
      "source": [
        "oversample = SMOTE(random_state = 42)\n"
      ],
      "id": "NWdhqFuJgoom"
    },
    {
      "cell_type": "code",
      "execution_count": 37,
      "metadata": {
        "id": "mJSGmkp2c2uI"
      },
      "outputs": [],
      "source": [
        "train_x,train_y= oversample.fit_resample(x_train, y_train)"
      ],
      "id": "mJSGmkp2c2uI"
    },
    {
      "cell_type": "code",
      "execution_count": 38,
      "metadata": {
        "id": "_nAJg7vAeKcy",
        "colab": {
          "base_uri": "https://localhost:8080/"
        },
        "outputId": "ea390993-3790-4e7f-a891-ebb69e60a58a"
      },
      "outputs": [
        {
          "output_type": "execute_result",
          "data": {
            "text/plain": [
              "(5810892, 14)"
            ]
          },
          "metadata": {},
          "execution_count": 38
        }
      ],
      "source": [
        "train_x.shape"
      ],
      "id": "_nAJg7vAeKcy"
    },
    {
      "cell_type": "code",
      "execution_count": 39,
      "metadata": {
        "id": "8MsK-Es9ebzL",
        "colab": {
          "base_uri": "https://localhost:8080/"
        },
        "outputId": "f67f75e1-2189-4e92-807c-f2bb797534fd"
      },
      "outputs": [
        {
          "output_type": "execute_result",
          "data": {
            "text/plain": [
              "0.0    2905446\n",
              "1.0    2905446\n",
              "dtype: int64"
            ]
          },
          "metadata": {},
          "execution_count": 39
        }
      ],
      "source": [
        "pd.DataFrame(train_y).value_counts()"
      ],
      "id": "8MsK-Es9ebzL"
    },
    {
      "cell_type": "code",
      "execution_count": 40,
      "metadata": {
        "id": "wFbQO8JUepQC"
      },
      "outputs": [],
      "source": [
        "test_x,test_y= oversample.fit_resample(x_test, y_test)"
      ],
      "id": "wFbQO8JUepQC"
    },
    {
      "cell_type": "code",
      "execution_count": 41,
      "metadata": {
        "id": "jp03auJVe_zx",
        "colab": {
          "base_uri": "https://localhost:8080/"
        },
        "outputId": "8b53082e-8a3e-46c1-a115-f22a0da91729"
      },
      "outputs": [
        {
          "output_type": "execute_result",
          "data": {
            "text/plain": [
              "0.0    1246144\n",
              "1.0    1246144\n",
              "dtype: int64"
            ]
          },
          "metadata": {},
          "execution_count": 41
        }
      ],
      "source": [
        "pd.DataFrame(test_y).value_counts()"
      ],
      "id": "jp03auJVe_zx"
    },
    {
      "cell_type": "code",
      "source": [
        "from sklearn.linear_model import LogisticRegression\n",
        "LR = LogisticRegression(solver = \"saga\") \n",
        "LR.fit(train_x, train_y)"
      ],
      "metadata": {
        "id": "YeqIYgP8jddu",
        "colab": {
          "base_uri": "https://localhost:8080/"
        },
        "outputId": "a233f4cb-e998-4372-d9c8-7987d1f9d12d"
      },
      "id": "YeqIYgP8jddu",
      "execution_count": 42,
      "outputs": [
        {
          "output_type": "execute_result",
          "data": {
            "text/plain": [
              "LogisticRegression(solver='saga')"
            ]
          },
          "metadata": {},
          "execution_count": 42
        }
      ]
    },
    {
      "cell_type": "code",
      "source": [
        "accuracy_score(test_y, LR.predict(test_x))"
      ],
      "metadata": {
        "colab": {
          "base_uri": "https://localhost:8080/"
        },
        "id": "aKVO9omMuRD8",
        "outputId": "2f86685b-ce02-41f0-b14a-c98e0d93d970"
      },
      "id": "aKVO9omMuRD8",
      "execution_count": 43,
      "outputs": [
        {
          "output_type": "execute_result",
          "data": {
            "text/plain": [
              "0.7673551371270094"
            ]
          },
          "metadata": {},
          "execution_count": 43
        }
      ]
    },
    {
      "cell_type": "code",
      "source": [
        "print(classification_report(test_y, LR.predict(test_x)))"
      ],
      "metadata": {
        "id": "VlCSHyUancAA",
        "colab": {
          "base_uri": "https://localhost:8080/"
        },
        "outputId": "92e4af60-8dd2-4f94-dd14-444c271312e4"
      },
      "id": "VlCSHyUancAA",
      "execution_count": 44,
      "outputs": [
        {
          "output_type": "stream",
          "name": "stdout",
          "text": [
            "              precision    recall  f1-score   support\n",
            "\n",
            "         0.0       0.75      0.81      0.78   1246144\n",
            "         1.0       0.79      0.73      0.76   1246144\n",
            "\n",
            "    accuracy                           0.77   2492288\n",
            "   macro avg       0.77      0.77      0.77   2492288\n",
            "weighted avg       0.77      0.77      0.77   2492288\n",
            "\n"
          ]
        }
      ]
    },
    {
      "cell_type": "code",
      "source": [
        "import lightgbm as lgb\n",
        "model = lgb.LGBMClassifier(learning_rate=0.009,num_iteration = 100,num_leaves =100,max_depth=-5,callbacks=[lgb.early_stopping(stopping_rounds=5)],random_state=42)\n",
        "model.fit(train_x,train_y,\n",
        "          verbose=20,eval_metric='logloss')\n"
      ],
      "metadata": {
        "id": "mIg9E-A4v0R2",
        "colab": {
          "base_uri": "https://localhost:8080/"
        },
        "outputId": "a01d093b-1919-4c73-9506-9ae9f57b241f"
      },
      "id": "mIg9E-A4v0R2",
      "execution_count": 45,
      "outputs": [
        {
          "output_type": "stream",
          "name": "stderr",
          "text": [
            "/usr/local/lib/python3.8/dist-packages/lightgbm/engine.py:118: UserWarning: Found `num_iteration` in params. Will use it instead of argument\n",
            "  warnings.warn(\"Found `{}` in params. Will use it instead of argument\".format(alias))\n"
          ]
        },
        {
          "output_type": "execute_result",
          "data": {
            "text/plain": [
              "LGBMClassifier(callbacks=[<function early_stopping.<locals>._callback at 0x7f0930c61ee0>],\n",
              "               learning_rate=0.009, max_depth=-5, num_iteration=100,\n",
              "               num_leaves=100, random_state=42)"
            ]
          },
          "metadata": {},
          "execution_count": 45
        }
      ]
    },
    {
      "cell_type": "code",
      "source": [
        "accuracy_score(test_y,model.predict(test_x))"
      ],
      "metadata": {
        "id": "crcttilKxd1m",
        "colab": {
          "base_uri": "https://localhost:8080/"
        },
        "outputId": "cd277a7c-644c-46e7-a86b-0bc6a173b575"
      },
      "id": "crcttilKxd1m",
      "execution_count": 46,
      "outputs": [
        {
          "output_type": "execute_result",
          "data": {
            "text/plain": [
              "0.8619192484977659"
            ]
          },
          "metadata": {},
          "execution_count": 46
        }
      ]
    },
    {
      "cell_type": "code",
      "source": [
        "y_predict = model.predict(test_x)"
      ],
      "metadata": {
        "id": "c_IYIqjg_3-W"
      },
      "id": "c_IYIqjg_3-W",
      "execution_count": 47,
      "outputs": []
    },
    {
      "cell_type": "code",
      "source": [
        "print(classification_report(test_y,y_predict))"
      ],
      "metadata": {
        "id": "XpXMK1hofeyi",
        "colab": {
          "base_uri": "https://localhost:8080/"
        },
        "outputId": "ca72f8ef-dc3c-4f70-ca67-ffad237dbad0"
      },
      "id": "XpXMK1hofeyi",
      "execution_count": 48,
      "outputs": [
        {
          "output_type": "stream",
          "name": "stdout",
          "text": [
            "              precision    recall  f1-score   support\n",
            "\n",
            "         0.0       0.88      0.83      0.86   1246144\n",
            "         1.0       0.84      0.89      0.87   1246144\n",
            "\n",
            "    accuracy                           0.86   2492288\n",
            "   macro avg       0.86      0.86      0.86   2492288\n",
            "weighted avg       0.86      0.86      0.86   2492288\n",
            "\n"
          ]
        }
      ]
    },
    {
      "cell_type": "code",
      "source": [
        "auc = roc_auc_score(test_y, y_predict)\n",
        "\n",
        "false_positive_rate, true_positive_rate, thresholds = roc_curve(test_y, y_predict)\n",
        "\n",
        "plt.figure(figsize=(10, 8), dpi=100)\n",
        "plt.axis('scaled')\n",
        "plt.xlim([0, 1])\n",
        "plt.ylim([0, 1])\n",
        "plt.title(\"AUC & ROC Curve\")\n",
        "plt.plot(false_positive_rate, true_positive_rate, 'g')\n",
        "plt.fill_between(false_positive_rate, true_positive_rate, facecolor='lightgreen', alpha=0.7)\n",
        "plt.text(0.95, 0.05, 'AUC = %0.4f' % auc, ha='right', fontsize=12, weight='bold', color='blue')\n",
        "plt.xlabel(\"False Positive Rate\")\n",
        "plt.ylabel(\"True Positive Rate\")\n",
        "plt.show()"
      ],
      "metadata": {
        "id": "5C1oYZijnqwC",
        "colab": {
          "base_uri": "https://localhost:8080/",
          "height": 706
        },
        "outputId": "f3d3790a-0e7d-4c67-f970-51f608560350"
      },
      "id": "5C1oYZijnqwC",
      "execution_count": 51,
      "outputs": [
        {
          "output_type": "display_data",
          "data": {
            "text/plain": [
              "<Figure size 1000x800 with 1 Axes>"
            ],
            "image/png": "[encoded data removed]"
          },
          "metadata": {
            "needs_background": "light"
          }
        }
      ]
    }
  ],
  "metadata": {
    "colab": {
      "provenance": []
    },
    "gpuClass": "standard",
    "kernelspec": {
      "display_name": "Python 3 (ipykernel)",
      "language": "python",
      "name": "python3"
    },
    "language_info": {
      "codemirror_mode": {
        "name": "ipython",
        "version": 3
      },
      "file_extension": ".py",
      "mimetype": "text/x-python",
      "name": "python",
      "nbconvert_exporter": "python",
      "pygments_lexer": "ipython3",
      "version": "3.9.12"
    }
  },
  "nbformat": 4,
  "nbformat_minor": 5
}